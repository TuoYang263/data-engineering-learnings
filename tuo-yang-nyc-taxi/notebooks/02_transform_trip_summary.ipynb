{
 "cells": [
  {
   "cell_type": "code",
   "execution_count": 2,
   "id": "f10c2bcc-5786-4a01-9a70-75e4a99a67d8",
   "metadata": {},
   "outputs": [],
   "source": [
    "# Imports and configuration\n",
    "import pandas as pd\n",
    "import duckdb\n",
    "from pathlib import Path\n",
    "\n",
    "# Paths\n",
    "PROJECT_ROOT = Path(\"..\")\n",
    "RAW_DATA_PATH = PROJECT_ROOT / \"data\" / \"raw\" / \"yellow_tripdata_2023-01.parquet\"\n",
    "OUTPUT_PATH = PROJECT_ROOT / \"data\" / \"processed\" / \"trip_summary_hourly.csv\""
   ]
  },
  {
   "cell_type": "code",
   "execution_count": null,
   "id": "63086d29-9e01-418c-8743-383ad860d491",
   "metadata": {},
   "outputs": [],
   "source": []
  }
 ],
 "metadata": {
  "kernelspec": {
   "display_name": "Python 3 (ipykernel)",
   "language": "python",
   "name": "python3"
  },
  "language_info": {
   "codemirror_mode": {
    "name": "ipython",
    "version": 3
   },
   "file_extension": ".py",
   "mimetype": "text/x-python",
   "name": "python",
   "nbconvert_exporter": "python",
   "pygments_lexer": "ipython3",
   "version": "3.10.16"
  }
 },
 "nbformat": 4,
 "nbformat_minor": 5
}
